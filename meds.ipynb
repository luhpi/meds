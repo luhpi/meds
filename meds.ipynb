{
 "cells": [
  {
   "cell_type": "code",
   "execution_count": 51,
   "metadata": {},
   "outputs": [],
   "source": [
    "import numpy as np\n",
    "import matplotlib.pyplot as plt\n",
    "%matplotlib inline"
   ]
  },
  {
   "cell_type": "code",
   "execution_count": 52,
   "metadata": {},
   "outputs": [],
   "source": [
    "antialergicos = {\"nome comercial\": [\"Hidroxizina\", \n",
    "                                    \"Citrozina\", \n",
    "                                    \"Loratadina\", \n",
    "                                    \"Desloratadina\", \n",
    "                                    \"Clemastina\", \n",
    "                                    \"Triancinolona\", \n",
    "                                    \"Difenidramina\", \n",
    "                                    \"Fexofenadina\"],\n",
    "                 \"composto principal\": [\"Cloridrato de Hidroxizina\", \n",
    "                                        \"Dicloridrato de cetirizina\",\n",
    "                                        \"Loratadina\",\n",
    "                                        \"Desloratadina\",\n",
    "                                        \"Fumarato de Clemastina\"],\n",
    "                 \"formula quimica\": [\"C21H29Cl3N2O2\",\n",
    "                                     \"C21H27Cl3N2O3\",\n",
    "                                     \"C22H23ClN2O2\",\n",
    "                                     \"C19H19ClN2\",\n",
    "                                     \"C21H26ClNO\"],\n",
    "                 \"meia vida\": [np.array([6,\n",
    "                               8.3,\n",
    "                               8.4,\n",
    "                               50,\n",
    "                               3,6])],\n",
    "                 \"comprimidos por embalagem\": [[12, 20, 30],\n",
    "                                               12,\n",
    "                                               12,\n",
    "                                               [10, 30],\n",
    "                                               15],\n",
    "                 \"preco\": [np.array([41.50, 22.60, 25.75]),\n",
    "                           np.array([36.27, 18.66, 59.12]),\n",
    "                           np.array([33.10, 33.26, 11.37]),\n",
    "                           np.array([31.26, 31.40, 39.23]),\n",
    "                           np.array([21.96])],\n",
    "                 \"quantidade por comprimido\": [25,\n",
    "                                               10,\n",
    "                                               10,\n",
    "                                               5,\n",
    "                                               1],\n",
    "                 \"dose diaria\": [[75, 100],\n",
    "                                 10,\n",
    "                                 10,\n",
    "                                 5,\n",
    "                                 2],\n",
    "                 \"reacoes adversas\": [[\"sonolência\", \"boca seca\", \"nausea\"],\n",
    "                                      [\"sonolência\", \"boca seca\", \"nausea\"],\n",
    "                                      [\"sonolência\", \"boca seca\", \"nausea\"],\n",
    "                                      [\"fadiga\", \"boca seca\", \"cefaleia\"],\n",
    "                                      [\"fadiga\", \"tontura\", \"cefaleia\"]]\n",
    "\n",
    "                }"
   ]
  },
  {
   "cell_type": "code",
   "execution_count": 62,
   "metadata": {},
   "outputs": [],
   "source": [
    "##Faça dois gráficos de barras: No primeiro mostre os preços médios por comprimido de todos os medicamentos. \n",
    "##No segundo ilustre o preço médio por mg do componente principal\n",
    "\n",
    "x = [np.mean(antialergicos[\"preco\"][0]),\n",
    "             np.mean(antialergicos[\"preco\"][1]),\n",
    "             np.mean(antialergicos[\"preco\"][2]),\n",
    "             np.mean(antialergicos[\"preco\"][3]),\n",
    "             np.mean(antialergicos[\"preco\"][4])]\n",
    "y = np.arange(0,100)\n",
    "##plt.bar (x,y)\n",
    "\n",
    "\n"
   ]
  },
  {
   "cell_type": "code",
   "execution_count": 63,
   "metadata": {
    "collapsed": true
   },
   "outputs": [],
   "source": [
    "##Ilustre graficamente a dose diária para um adulto (em miligramas) versus a meia-vida de eliminação. \n",
    "##Há alguma relação entre estas variáveis?\n"
   ]
  },
  {
   "cell_type": "code",
   "execution_count": 64,
   "metadata": {
    "collapsed": true
   },
   "outputs": [],
   "source": [
    "##Com base nos dados coletados e considerando um período de 7 dias, qual o medicamento que representa o tratamento mais caro? \n",
    "##Justifique a sua resposta"
   ]
  },
  {
   "cell_type": "code",
   "execution_count": 65,
   "metadata": {
    "collapsed": true
   },
   "outputs": [],
   "source": [
    "##Escreva uma função que agrupe os medicamentos que ocasionam reações adversas em comum"
   ]
  },
  {
   "cell_type": "code",
   "execution_count": 66,
   "metadata": {
    "collapsed": true
   },
   "outputs": [],
   "source": [
    "## A dose de um medicamento para uma criança à partir da dose para um adulto pode ser determinada com base na fórmula \n",
    "## de Cowling:\n",
    "## C = ((N + 1)/24)*A\n",
    "## onde N é a idade da criança, A é a dosagem do medicamento para um adulto (em mg)\n",
    "## e C a dosagem correspondente para a criança. Inclua no dicionário uma chave informando a dose de cada\n",
    "##medicamento indicada para uma criança de 5 anos"
   ]
  },
  {
   "cell_type": "code",
   "execution_count": null,
   "metadata": {
    "collapsed": true
   },
   "outputs": [],
   "source": []
  }
 ],
 "metadata": {
  "kernelspec": {
   "display_name": "Python 3",
   "language": "python",
   "name": "python3"
  },
  "language_info": {
   "codemirror_mode": {
    "name": "ipython",
    "version": 3
   },
   "file_extension": ".py",
   "mimetype": "text/x-python",
   "name": "python",
   "nbconvert_exporter": "python",
   "pygments_lexer": "ipython3",
   "version": "3.6.2"
  }
 },
 "nbformat": 4,
 "nbformat_minor": 2
}
